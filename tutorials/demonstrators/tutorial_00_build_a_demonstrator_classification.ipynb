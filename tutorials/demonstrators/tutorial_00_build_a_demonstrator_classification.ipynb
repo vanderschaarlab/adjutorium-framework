{
 "cells": [
  {
   "cell_type": "markdown",
   "id": "0c4f14ba",
   "metadata": {},
   "source": [
    "# Tutorial: Build a demonstrator for Classification studies\n",
    "\n",
    "Welcome!\n",
    "\n",
    "This tutorial will walk you through the steps of selecting a model for a classification task, and creating a demonstrator on top of it."
   ]
  },
  {
   "cell_type": "code",
   "execution_count": null,
   "id": "8d3dc094",
   "metadata": {},
   "outputs": [],
   "source": [
    "# stdlib\n",
    "import sys\n",
    "import warnings\n",
    "\n",
    "# third party\n",
    "import numpy as np\n",
    "import pandas as pd\n",
    "\n",
    "warnings.filterwarnings(\"ignore\")\n",
    "\n",
    "# autoprognosis absolute\n",
    "import autoprognosis.logger as log"
   ]
  },
  {
   "cell_type": "code",
   "execution_count": null,
   "id": "15ec7b75",
   "metadata": {},
   "outputs": [],
   "source": [
    "log.add(sink=sys.stderr, level=\"INFO\")"
   ]
  },
  {
   "cell_type": "markdown",
   "id": "2f0827f5",
   "metadata": {},
   "source": [
    "## Load dataset\n"
   ]
  },
  {
   "cell_type": "code",
   "execution_count": null,
   "id": "c45ad99e",
   "metadata": {},
   "outputs": [],
   "source": [
    "# third party\n",
    "from sklearn.datasets import load_breast_cancer\n",
    "\n",
    "X, Y = load_breast_cancer(return_X_y=True, as_frame=True)\n",
    "\n",
    "df = X.copy()\n",
    "df[\"target\"] = Y"
   ]
  },
  {
   "cell_type": "markdown",
   "id": "e2680f42",
   "metadata": {},
   "source": [
    "##  Select model"
   ]
  },
  {
   "cell_type": "code",
   "execution_count": null,
   "id": "072f65a4",
   "metadata": {},
   "outputs": [],
   "source": [
    "# stdlib\n",
    "from pathlib import Path\n",
    "\n",
    "# autoprognosis absolute\n",
    "from autoprognosis.studies.classifiers import ClassifierStudy\n",
    "\n",
    "workspace = Path(\"workspace\")\n",
    "workspace.mkdir(parents=True, exist_ok=True)\n",
    "\n",
    "study_name = \"test_demonstrator_classification\"\n",
    "\n",
    "study = ClassifierStudy(\n",
    "    study_name=study_name,\n",
    "    dataset=df,  # pandas DataFrame\n",
    "    target=\"target\",  # the label column in the dataset\n",
    "    timeout=60,  # timeout for optimization for each classfier. Default: 600 seconds\n",
    "    classifiers=[\"logistic_regression\", \"xgboost\"],\n",
    "    workspace=workspace,\n",
    ")"
   ]
  },
  {
   "cell_type": "code",
   "execution_count": null,
   "id": "6e6ebb79",
   "metadata": {},
   "outputs": [],
   "source": [
    "study.run()"
   ]
  },
  {
   "cell_type": "markdown",
   "id": "418a4219",
   "metadata": {},
   "source": [
    "## Build the demonstrator"
   ]
  },
  {
   "cell_type": "code",
   "execution_count": null,
   "id": "0c50a6d1",
   "metadata": {},
   "outputs": [],
   "source": [
    "# stdlib\n",
    "from pathlib import Path\n",
    "\n",
    "# autoprognosis absolute\n",
    "from autoprognosis.deploy.build import Builder\n",
    "from autoprognosis.deploy.proto import NewClassificationAppProto\n",
    "\n",
    "dataset_path = workspace / \"demo_dataset_classification.csv\"\n",
    "df.to_csv(dataset_path, index=None)\n",
    "\n",
    "name = \"AutoPrognosis demo: Classification\"\n",
    "model_path = workspace / study_name / \"model.p\"\n",
    "\n",
    "target_column = \"target\"\n",
    "task_type = \"classification\"\n",
    "\n",
    "task = Builder(\n",
    "    NewClassificationAppProto(\n",
    "        **{\n",
    "            \"name\": name,\n",
    "            \"type\": task_type,\n",
    "            \"dataset_path\": str(dataset_path),\n",
    "            \"model_path\": str(model_path),\n",
    "            \"target_column\": target_column,\n",
    "            \"explainers\": [\"kernel_shap\"],\n",
    "            \"imputers\": [],\n",
    "            \"plot_alternatives\": [],\n",
    "            \"comparative_models\": [\n",
    "                (\n",
    "                    \"Logistic regression\",  # display name\n",
    "                    \"logistic_regression\",  # autoprognosis plugin name\n",
    "                    {},  # plugin args\n",
    "                ),\n",
    "            ],\n",
    "            \"auth\": False,\n",
    "        }\n",
    "    ),\n",
    ")\n",
    "\n",
    "app_path = task.run()\n",
    "\n",
    "app_path"
   ]
  },
  {
   "cell_type": "markdown",
   "id": "bd9852d5",
   "metadata": {},
   "source": [
    "## Run the demonstrator"
   ]
  },
  {
   "cell_type": "code",
   "execution_count": null,
   "id": "93697df9",
   "metadata": {},
   "outputs": [],
   "source": [
    "# Prepare the entry file for Streamlit - app.py\n",
    "script = f\"\"\"\n",
    "from pathlib import Path\n",
    "from autoprognosis.deploy.run import start_app_server\n",
    "\n",
    "app_path = '{app_path}'\n",
    "start_app_server(Path(app_path))\n",
    "\"\"\"\n",
    "\n",
    "with open(workspace / \"app_classification.py\", \"w\") as f:\n",
    "    f.write(script)"
   ]
  },
  {
   "cell_type": "code",
   "execution_count": null,
   "id": "464d53c5",
   "metadata": {},
   "outputs": [],
   "source": [
    "!streamlit run workspace/app_classification.py"
   ]
  },
  {
   "cell_type": "code",
   "execution_count": null,
   "id": "05448d87",
   "metadata": {},
   "outputs": [],
   "source": []
  },
  {
   "cell_type": "markdown",
   "id": "62943458",
   "metadata": {},
   "source": [
    "# Congratulations!\n",
    "\n",
    "Congratulations on completing this notebook tutorial! If you enjoyed this and would like to join the movement towards Machine learning and AI for medicine, you can do so in the following ways!\n",
    "\n",
    "### Star AutoPrognosis on GitHub\n",
    "\n",
    "The easiest way to help our community is just by starring the Repos! This helps raise awareness of the tools we're building.\n",
    "\n",
    "- [Star AutoPrognosis](https://github.com/vanderschaarlab/autoprognosis)\n",
    "- [Star HyperImpute](https://github.com/vanderschaarlab/hyperimpute)\n"
   ]
  },
  {
   "cell_type": "code",
   "execution_count": null,
   "id": "3acbfb4b",
   "metadata": {},
   "outputs": [],
   "source": []
  }
 ],
 "metadata": {
  "kernelspec": {
   "display_name": "Python 3 (ipykernel)",
   "language": "python",
   "name": "python3"
  },
  "language_info": {
   "codemirror_mode": {
    "name": "ipython",
    "version": 3
   },
   "file_extension": ".py",
   "mimetype": "text/x-python",
   "name": "python",
   "nbconvert_exporter": "python",
   "pygments_lexer": "ipython3",
   "version": "3.8.13"
  }
 },
 "nbformat": 4,
 "nbformat_minor": 5
}
