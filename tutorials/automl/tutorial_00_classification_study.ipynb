{
 "cells": [
  {
   "cell_type": "markdown",
   "id": "621bc936",
   "metadata": {},
   "source": [
    "# AutoPrognosis classification\n",
    "\n",
    "Welcome! This tutorial will walk you through the steps of selecting a model for a classification task using AutoPrognosis."
   ]
  },
  {
   "cell_type": "markdown",
   "id": "3a69e2ef",
   "metadata": {},
   "source": [
    "### Setup"
   ]
  },
  {
   "cell_type": "code",
   "execution_count": 4,
   "id": "90163d91",
   "metadata": {},
   "outputs": [],
   "source": [
    "# stdlib\n",
    "import json\n",
    "import warnings\n",
    "\n",
    "# third party\n",
    "import pandas as pd\n",
    "from sklearn.datasets import load_breast_cancer\n",
    "from sklearn.model_selection import train_test_split\n",
    "\n",
    "warnings.filterwarnings(\"ignore\")"
   ]
  },
  {
   "cell_type": "markdown",
   "id": "e98145ee",
   "metadata": {},
   "source": [
    "### Import ClassifierStudy\n",
    "\n",
    "ClassifierStudy is the engine that learns an ensemble of pipelines and their hyperparameters automatically."
   ]
  },
  {
   "cell_type": "code",
   "execution_count": 5,
   "id": "822b4467",
   "metadata": {},
   "outputs": [],
   "source": [
    "# autoprognosis absolute\n",
    "from autoprognosis.studies.classifiers import ClassifierStudy\n",
    "from autoprognosis.hooks import DefaultHooks, WandbHook"
   ]
  },
  {
   "cell_type": "markdown",
   "id": "2cce4436",
   "metadata": {},
   "source": [
    "### Load the target dataset\n",
    "\n",
    "AutoPrognosis expects pandas.DataFrames as input.\n",
    "\n",
    "For this example, we will use the [Breast Cancer Wisconsin Dataset](https://archive.ics.uci.edu/ml/datasets/Breast+Cancer+Wisconsin+(Diagnostic))."
   ]
  },
  {
   "cell_type": "code",
   "execution_count": 6,
   "id": "f3141611",
   "metadata": {},
   "outputs": [],
   "source": [
    "# stdlib\n",
    "from pathlib import Path\n",
    "\n",
    "X, Y = load_breast_cancer(return_X_y=True, as_frame=True)\n",
    "\n",
    "df = X.copy()\n",
    "df[\"target\"] = Y"
   ]
  },
  {
   "cell_type": "markdown",
   "id": "1ecb0906",
   "metadata": {},
   "source": [
    "### Create the classifier\n",
    "\n",
    "While AutoPrognosis provides default plugins, it allows the user to customize the plugins for the pipelines.\n",
    "\n",
    "You can see the supported plugins below:"
   ]
  },
  {
   "cell_type": "code",
   "execution_count": 7,
   "id": "49bea04a",
   "metadata": {},
   "outputs": [
    {
     "name": "stdout",
     "output_type": "stream",
     "text": [
      "{\n",
      "  \"imputer\": {\n",
      "    \"default\": [\n",
      "      \"EM\",\n",
      "      \"gain\",\n",
      "      \"hyperimpute\",\n",
      "      \"ice\",\n",
      "      \"mean\",\n",
      "      \"median\",\n",
      "      \"mice\",\n",
      "      \"missforest\",\n",
      "      \"most_frequent\",\n",
      "      \"nop\",\n",
      "      \"sinkhorn\",\n",
      "      \"softimpute\"\n",
      "    ]\n",
      "  },\n",
      "  \"prediction\": {\n",
      "    \"classifier\": [\n",
      "      \"adaboost\",\n",
      "      \"bagging\",\n",
      "      \"bernoulli_naive_bayes\",\n",
      "      \"catboost\",\n",
      "      \"decision_trees\",\n",
      "      \"extra_tree_classifier\",\n",
      "      \"gaussian_naive_bayes\",\n",
      "      \"gaussian_process\",\n",
      "      \"gradient_boosting\",\n",
      "      \"hist_gradient_boosting\",\n",
      "      \"knn\",\n",
      "      \"lda\",\n",
      "      \"lgbm\",\n",
      "      \"linear_svm\",\n",
      "      \"logistic_regression\",\n",
      "      \"multinomial_naive_bayes\",\n",
      "      \"neural_nets\",\n",
      "      \"perceptron\",\n",
      "      \"qda\",\n",
      "      \"random_forest\",\n",
      "      \"ridge_classifier\",\n",
      "      \"tabnet\",\n",
      "      \"xgboost\"\n",
      "    ],\n",
      "    \"regression\": [\n",
      "      \"bayesian_ridge\",\n",
      "      \"catboost_regressor\",\n",
      "      \"kneighbors_regressor\",\n",
      "      \"linear_regression\",\n",
      "      \"mlp_regressor\",\n",
      "      \"neural_nets_regression\",\n",
      "      \"random_forest_regressor\",\n",
      "      \"tabnet_regressor\",\n",
      "      \"xgboost_regressor\"\n",
      "    ],\n",
      "    \"risk_estimation\": [\n",
      "      \"coxnet\",\n",
      "      \"cox_ph\",\n",
      "      \"deephit\",\n",
      "      \"loglogistic_aft\",\n",
      "      \"lognormal_aft\",\n",
      "      \"survival_xgboost\",\n",
      "      \"weibull_aft\"\n",
      "    ]\n",
      "  },\n",
      "  \"explainer\": {\n",
      "    \"default\": [\n",
      "      \"invase\",\n",
      "      \"kernel_shap\",\n",
      "      \"lime\",\n",
      "      \"risk_effect_size\",\n",
      "      \"shap_permutation_sampler\",\n",
      "      \"symbolic_pursuit\"\n",
      "    ]\n",
      "  },\n",
      "  \"preprocessor\": {\n",
      "    \"feature_scaling\": [\n",
      "      \"feature_normalizer\",\n",
      "      \"maxabs_scaler\",\n",
      "      \"minmax_scaler\",\n",
      "      \"nop\",\n",
      "      \"normal_transform\",\n",
      "      \"scaler\",\n",
      "      \"uniform_transform\"\n",
      "    ],\n",
      "    \"dimensionality_reduction\": [\n",
      "      \"data_cleanup\",\n",
      "      \"fast_ica\",\n",
      "      \"feature_agglomeration\",\n",
      "      \"gauss_projection\",\n",
      "      \"nop\",\n",
      "      \"pca\",\n",
      "      \"variance_threshold\"\n",
      "    ]\n",
      "  }\n",
      "}\n"
     ]
    }
   ],
   "source": [
    "# List the available plugins\n",
    "\n",
    "# autoprognosis absolute\n",
    "from autoprognosis.plugins import Plugins\n",
    "\n",
    "print(json.dumps(Plugins().list_available(), indent=2))"
   ]
  },
  {
   "cell_type": "markdown",
   "id": "5382e125",
   "metadata": {},
   "source": [
    "We will set a few custom plugins for the pipelines and create the classifier study."
   ]
  },
  {
   "cell_type": "code",
   "execution_count": 12,
   "id": "c3061090",
   "metadata": {},
   "outputs": [],
   "source": [
    "workspace = Path(\"workspace\")\n",
    "workspace.mkdir(parents=True, exist_ok=True)\n",
    "\n",
    "study_name = \"classification_example\"\n",
    "\n",
    "study = ClassifierStudy(\n",
    "    study_name=study_name,\n",
    "    dataset=df,  # pandas DataFrame\n",
    "    target=\"target\",  # the label column in the dataset\n",
    "    num_iter=10,  # DELETE THIS LINE FOR BETTER RESULTS. how many trials to do for each candidate. Default: 50\n",
    "    num_study_iter=1,  # DELETE THIS LINE FOR BETTER RESULTS. how many outer iterations to do. Default: 5\n",
    "    classifiers=[\n",
    "        \"logistic_regression\",\n",
    "        \"lda\",\n",
    "        \"qda\",\n",
    "    ],  # DELETE THIS LINE FOR BETTER RESULTS.\n",
    "    workspace=workspace,\n",
    "    hooks=DefaultHooks().append(WandbHook()),\n",
    ")"
   ]
  },
  {
   "cell_type": "markdown",
   "id": "de1e3907",
   "metadata": {},
   "source": [
    "### Search for the optimal ensemble\n"
   ]
  },
  {
   "cell_type": "code",
   "execution_count": 13,
   "id": "b30a99bf",
   "metadata": {},
   "outputs": [
    {
     "data": {
      "text/html": [
       "<style>#sk-container-id-2 {color: black;background-color: white;}#sk-container-id-2 pre{padding: 0;}#sk-container-id-2 div.sk-toggleable {background-color: white;}#sk-container-id-2 label.sk-toggleable__label {cursor: pointer;display: block;width: 100%;margin-bottom: 0;padding: 0.3em;box-sizing: border-box;text-align: center;}#sk-container-id-2 label.sk-toggleable__label-arrow:before {content: \"▸\";float: left;margin-right: 0.25em;color: #696969;}#sk-container-id-2 label.sk-toggleable__label-arrow:hover:before {color: black;}#sk-container-id-2 div.sk-estimator:hover label.sk-toggleable__label-arrow:before {color: black;}#sk-container-id-2 div.sk-toggleable__content {max-height: 0;max-width: 0;overflow: hidden;text-align: left;background-color: #f0f8ff;}#sk-container-id-2 div.sk-toggleable__content pre {margin: 0.2em;color: black;border-radius: 0.25em;background-color: #f0f8ff;}#sk-container-id-2 input.sk-toggleable__control:checked~div.sk-toggleable__content {max-height: 200px;max-width: 100%;overflow: auto;}#sk-container-id-2 input.sk-toggleable__control:checked~label.sk-toggleable__label-arrow:before {content: \"▾\";}#sk-container-id-2 div.sk-estimator input.sk-toggleable__control:checked~label.sk-toggleable__label {background-color: #d4ebff;}#sk-container-id-2 div.sk-label input.sk-toggleable__control:checked~label.sk-toggleable__label {background-color: #d4ebff;}#sk-container-id-2 input.sk-hidden--visually {border: 0;clip: rect(1px 1px 1px 1px);clip: rect(1px, 1px, 1px, 1px);height: 1px;margin: -1px;overflow: hidden;padding: 0;position: absolute;width: 1px;}#sk-container-id-2 div.sk-estimator {font-family: monospace;background-color: #f0f8ff;border: 1px dotted black;border-radius: 0.25em;box-sizing: border-box;margin-bottom: 0.5em;}#sk-container-id-2 div.sk-estimator:hover {background-color: #d4ebff;}#sk-container-id-2 div.sk-parallel-item::after {content: \"\";width: 100%;border-bottom: 1px solid gray;flex-grow: 1;}#sk-container-id-2 div.sk-label:hover label.sk-toggleable__label {background-color: #d4ebff;}#sk-container-id-2 div.sk-serial::before {content: \"\";position: absolute;border-left: 1px solid gray;box-sizing: border-box;top: 0;bottom: 0;left: 50%;z-index: 0;}#sk-container-id-2 div.sk-serial {display: flex;flex-direction: column;align-items: center;background-color: white;padding-right: 0.2em;padding-left: 0.2em;position: relative;}#sk-container-id-2 div.sk-item {position: relative;z-index: 1;}#sk-container-id-2 div.sk-parallel {display: flex;align-items: stretch;justify-content: center;background-color: white;position: relative;}#sk-container-id-2 div.sk-item::before, #sk-container-id-2 div.sk-parallel-item::before {content: \"\";position: absolute;border-left: 1px solid gray;box-sizing: border-box;top: 0;bottom: 0;left: 50%;z-index: -1;}#sk-container-id-2 div.sk-parallel-item {display: flex;flex-direction: column;z-index: 1;position: relative;background-color: white;}#sk-container-id-2 div.sk-parallel-item:first-child::after {align-self: flex-end;width: 50%;}#sk-container-id-2 div.sk-parallel-item:last-child::after {align-self: flex-start;width: 50%;}#sk-container-id-2 div.sk-parallel-item:only-child::after {width: 0;}#sk-container-id-2 div.sk-dashed-wrapped {border: 1px dashed gray;margin: 0 0.4em 0.5em 0.4em;box-sizing: border-box;padding-bottom: 0.4em;background-color: white;}#sk-container-id-2 div.sk-label label {font-family: monospace;font-weight: bold;display: inline-block;line-height: 1.2em;}#sk-container-id-2 div.sk-label-container {text-align: center;}#sk-container-id-2 div.sk-container {/* jupyter's `normalize.less` sets `[hidden] { display: none; }` but bootstrap.min.css set `[hidden] { display: none !important; }` so we also need the `!important` here to be able to override the default hidden behavior on the sphinx rendered scikit-learn.org. See: https://github.com/scikit-learn/scikit-learn/issues/21755 */display: inline-block !important;position: relative;}#sk-container-id-2 div.sk-text-repr-fallback {display: none;}</style><div id=\"sk-container-id-2\" class=\"sk-top-container\"><div class=\"sk-text-repr-fallback\"><pre>WeightedEnsemble(models=[&lt;autoprognosis.plugins.pipeline.fast_ica_feature_normalizer_data_cleanup_lda object at 0x000002BE32366140&gt;,\n",
       "                         &lt;autoprognosis.plugins.pipeline.fast_ica_feature_normalizer_data_cleanup_qda object at 0x000002BE32398250&gt;,\n",
       "                         &lt;autoprognosis.plugins.pipeline.fast_ica_feature_normalizer_data_cleanup_logistic_regression object at 0x000002BE32367A90&gt;],\n",
       "                 weights=[0.2352941175086505, 0.470588235017301,\n",
       "                          0.29411764688581316])</pre><b>In a Jupyter environment, please rerun this cell to show the HTML representation or trust the notebook. <br />On GitHub, the HTML representation is unable to render, please try loading this page with nbviewer.org.</b></div><div class=\"sk-container\" hidden><div class=\"sk-item\"><div class=\"sk-estimator sk-toggleable\"><input class=\"sk-toggleable__control sk-hidden--visually\" id=\"sk-estimator-id-2\" type=\"checkbox\" checked><label for=\"sk-estimator-id-2\" class=\"sk-toggleable__label sk-toggleable__label-arrow\">WeightedEnsemble</label><div class=\"sk-toggleable__content\"><pre>WeightedEnsemble(models=[&lt;autoprognosis.plugins.pipeline.fast_ica_feature_normalizer_data_cleanup_lda object at 0x000002BE32366140&gt;,\n",
       "                         &lt;autoprognosis.plugins.pipeline.fast_ica_feature_normalizer_data_cleanup_qda object at 0x000002BE32398250&gt;,\n",
       "                         &lt;autoprognosis.plugins.pipeline.fast_ica_feature_normalizer_data_cleanup_logistic_regression object at 0x000002BE32367A90&gt;],\n",
       "                 weights=[0.2352941175086505, 0.470588235017301,\n",
       "                          0.29411764688581316])</pre></div></div></div></div></div>"
      ],
      "text/plain": [
       "WeightedEnsemble(models=[<autoprognosis.plugins.pipeline.fast_ica_feature_normalizer_data_cleanup_lda object at 0x000002BE32366140>,\n",
       "                         <autoprognosis.plugins.pipeline.fast_ica_feature_normalizer_data_cleanup_qda object at 0x000002BE32398250>,\n",
       "                         <autoprognosis.plugins.pipeline.fast_ica_feature_normalizer_data_cleanup_logistic_regression object at 0x000002BE32367A90>],\n",
       "                 weights=[0.2352941175086505, 0.470588235017301,\n",
       "                          0.29411764688581316])"
      ]
     },
     "execution_count": 13,
     "metadata": {},
     "output_type": "execute_result"
    }
   ],
   "source": [
    "study.run()"
   ]
  },
  {
   "cell_type": "code",
   "execution_count": 10,
   "id": "399fd86c",
   "metadata": {},
   "outputs": [
    {
     "name": "stdout",
     "output_type": "stream",
     "text": [
      "Model 0.1874999998828125 * (pca->maxabs_scaler->data_cleanup->lda) + 0.624999999609375 * (data_cleanup->logistic_regression) + 0.1874999998828125 * (pca->maxabs_scaler->data_cleanup->qda) \n",
      "Score: \n",
      "{'raw': {'accuracy': (0.9525666016894087, 0.00831882156526754),\n",
      "         'aucprc': (0.9923907993530281, 0.004491214387734272),\n",
      "         'aucroc': (0.9892418939406747, 0.0047820586713733714),\n",
      "         'f1_score_macro': (0.9487085349863671, 0.008984798950139166),\n",
      "         'f1_score_micro': (0.9525666016894087, 0.00831882156526754),\n",
      "         'f1_score_weighted': (0.9522847627675723, 0.008405935546129645),\n",
      "         'kappa': (0.8974702024409966, 0.017942781976667134),\n",
      "         'kappa_quadratic': (0.8974702024409966, 0.017942781976667134),\n",
      "         'mcc': (0.8984245080218889, 0.017605200083484915),\n",
      "         'precision_macro': (0.954473104175413, 0.008611940788115212),\n",
      "         'precision_micro': (0.9525666016894087, 0.00831882156526754),\n",
      "         'precision_weighted': (0.9529458849052901, 0.008173645387861282),\n",
      "         'recall_macro': (0.9440269065372627, 0.009842702960455342),\n",
      "         'recall_micro': (0.9525666016894087, 0.00831882156526754),\n",
      "         'recall_weighted': (0.9525666016894087, 0.00831882156526754)},\n",
      " 'str': {'accuracy': '0.953 +/- 0.008',\n",
      "         'aucprc': '0.992 +/- 0.004',\n",
      "         'aucroc': '0.989 +/- 0.005',\n",
      "         'f1_score_macro': '0.949 +/- 0.009',\n",
      "         'f1_score_micro': '0.953 +/- 0.008',\n",
      "         'f1_score_weighted': '0.952 +/- 0.008',\n",
      "         'kappa': '0.897 +/- 0.018',\n",
      "         'kappa_quadratic': '0.897 +/- 0.018',\n",
      "         'mcc': '0.898 +/- 0.018',\n",
      "         'precision_macro': '0.954 +/- 0.009',\n",
      "         'precision_micro': '0.953 +/- 0.008',\n",
      "         'precision_weighted': '0.953 +/- 0.008',\n",
      "         'recall_macro': '0.944 +/- 0.01',\n",
      "         'recall_micro': '0.953 +/- 0.008',\n",
      "         'recall_weighted': '0.953 +/- 0.008'}}\n"
     ]
    }
   ],
   "source": [
    "# stdlib\n",
    "import pprint\n",
    "\n",
    "# autoprognosis absolute\n",
    "from autoprognosis.utils.serialization import load_model_from_file\n",
    "from autoprognosis.utils.tester import evaluate_estimator\n",
    "\n",
    "output = workspace / study_name / \"model.p\"\n",
    "\n",
    "model = load_model_from_file(output)\n",
    "\n",
    "metrics = evaluate_estimator(model, X, Y)\n",
    "\n",
    "print(f\"Model {model.name()} \")\n",
    "print(\"Score: \")\n",
    "\n",
    "pprint.pprint(metrics)"
   ]
  },
  {
   "cell_type": "markdown",
   "id": "b4e3a83e",
   "metadata": {},
   "source": [
    "## Serialization"
   ]
  },
  {
   "cell_type": "code",
   "execution_count": 11,
   "id": "2230c4d2",
   "metadata": {},
   "outputs": [
    {
     "name": "stdout",
     "output_type": "stream",
     "text": [
      "0.1874999998828125 * (pca->maxabs_scaler->data_cleanup->lda) + 0.624999999609375 * (data_cleanup->logistic_regression) + 0.1874999998828125 * (pca->maxabs_scaler->data_cleanup->qda)\n"
     ]
    }
   ],
   "source": [
    "# autoprognosis absolute\n",
    "from autoprognosis.utils.serialization import load_from_file, save_to_file\n",
    "\n",
    "out = workspace / \"tmp.bkp\"\n",
    "# Fit the model\n",
    "model.fit(X, Y)\n",
    "\n",
    "# Save\n",
    "save_to_file(out, model)\n",
    "\n",
    "# Reload\n",
    "loaded_model = load_from_file(out)\n",
    "\n",
    "print(loaded_model.name())\n",
    "\n",
    "assert loaded_model.name() == model.name()\n",
    "\n",
    "out.unlink()"
   ]
  },
  {
   "cell_type": "markdown",
   "id": "e2a3ba34",
   "metadata": {},
   "source": [
    "## Congratulations!\n",
    "\n",
    "Congratulations on completing this notebook tutorial! If you enjoyed this and would like to join the movement towards Machine learning and AI for medicine, you can do so in the following ways!\n",
    "\n",
    "### Star AutoPrognosis on GitHub\n",
    "\n",
    "The easiest way to help our community is just by starring the Repos! This helps raise awareness of the tools we're building.\n",
    "\n",
    "- [Star AutoPrognosis](https://github.com/vanderschaarlab/autoprognosis)\n",
    "- [Star HyperImpute](https://github.com/vanderschaarlab/hyperimpute)\n"
   ]
  }
 ],
 "metadata": {
  "kernelspec": {
   "display_name": "Python 3 (ipykernel)",
   "language": "python",
   "name": "python3"
  },
  "language_info": {
   "codemirror_mode": {
    "name": "ipython",
    "version": 3
   },
   "file_extension": ".py",
   "mimetype": "text/x-python",
   "name": "python",
   "nbconvert_exporter": "python",
   "pygments_lexer": "ipython3",
   "version": "3.10.9"
  }
 },
 "nbformat": 4,
 "nbformat_minor": 5
}
