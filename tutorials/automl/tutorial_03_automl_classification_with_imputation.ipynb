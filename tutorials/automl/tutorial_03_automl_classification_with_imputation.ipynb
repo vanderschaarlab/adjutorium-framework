{
 "cells": [
  {
   "cell_type": "code",
   "execution_count": null,
   "id": "8d3dc094",
   "metadata": {},
   "outputs": [],
   "source": [
    "from sklearn.model_selection import train_test_split\n",
    "import pandas as pd\n",
    "import numpy as np\n",
    "import json\n",
    "import sys\n",
    "\n",
    "import warnings\n",
    "warnings.filterwarnings('ignore')\n",
    "\n",
    "from adjutorium.studies.classifiers import ClassifierStudy\n",
    "import adjutorium.logger as log"
   ]
  },
  {
   "cell_type": "code",
   "execution_count": null,
   "id": "15ec7b75",
   "metadata": {},
   "outputs": [],
   "source": [
    "log.add(sink=sys.stderr, level=\"INFO\")"
   ]
  },
  {
   "cell_type": "markdown",
   "id": "2f0827f5",
   "metadata": {},
   "source": [
    "## Load toy dataset\n"
   ]
  },
  {
   "cell_type": "code",
   "execution_count": null,
   "id": "c45ad99e",
   "metadata": {},
   "outputs": [],
   "source": [
    "from sklearn.datasets import load_breast_cancer\n",
    "\n",
    "X, Y = load_breast_cancer(return_X_y=True, as_frame=True)\n",
    "\n",
    "X"
   ]
  },
  {
   "cell_type": "code",
   "execution_count": null,
   "id": "ff99eed7",
   "metadata": {},
   "outputs": [],
   "source": [
    "# Simulate missingness\n",
    "import random\n",
    "\n",
    "total_len = len(X)\n",
    "\n",
    "for col in [\"mean texture\", \"mean compactness\"]:\n",
    "    indices = random.sample(range(0, total_len), 10)\n",
    "    X.loc[indices, col] = np.nan\n",
    "    \n",
    "X.isnull().any()"
   ]
  },
  {
   "cell_type": "code",
   "execution_count": null,
   "id": "fe8bcb2c",
   "metadata": {},
   "outputs": [],
   "source": [
    "dataset = X.copy()\n",
    "dataset[\"target\"] = Y"
   ]
  },
  {
   "cell_type": "code",
   "execution_count": null,
   "id": "300dccdf",
   "metadata": {},
   "outputs": [],
   "source": [
    "# List available classifiers\n",
    "\n",
    "from adjutorium.plugins.prediction import Classifiers\n",
    "\n",
    "Classifiers().list()"
   ]
  },
  {
   "cell_type": "markdown",
   "id": "343a2ff6",
   "metadata": {},
   "source": [
    "## Option 1: Predefined imputer"
   ]
  },
  {
   "cell_type": "code",
   "execution_count": null,
   "id": "69b0146a",
   "metadata": {},
   "outputs": [],
   "source": [
    "from pathlib import Path\n",
    "\n",
    "workspace = Path(\"workspace\")\n",
    "workspace.mkdir(parents=True, exist_ok=True)\n",
    "\n",
    "study_name = \"test_classification_studies\"\n",
    "\n",
    "study = ClassifierStudy(\n",
    "    study_name=study_name,\n",
    "    dataset=dataset,\n",
    "    target=\"target\",\n",
    "    num_iter=2,\n",
    "    num_study_iter=1,\n",
    "    timeout=60, \n",
    "    classifiers=[\"logistic_regression\", \"lda\"],\n",
    "    imputers = [\"mean\"],\n",
    "    feature_scaling = [], # feature preprocessing is disabled\n",
    "    score_threshold=0.4,\n",
    "    workspace=workspace,\n",
    ")"
   ]
  },
  {
   "cell_type": "code",
   "execution_count": null,
   "id": "33d2219c",
   "metadata": {},
   "outputs": [],
   "source": [
    "study.run()"
   ]
  },
  {
   "cell_type": "code",
   "execution_count": null,
   "id": "2903d9b5",
   "metadata": {},
   "outputs": [],
   "source": [
    "from adjutorium.utils.serialization import load_model_from_file\n",
    "from adjutorium.utils.tester import evaluate_estimator\n",
    "from adjutorium.plugins.imputers import Imputers\n",
    "\n",
    "model_path = workspace / study_name / \"model.p\"\n",
    "\n",
    "model = load_model_from_file(model_path)\n",
    "\n",
    "X_imp = Imputers().get(\"mean\").fit_transform(X)\n",
    "\n",
    "evaluate_estimator(model, X_imp, Y, metric = \"aucroc\")"
   ]
  },
  {
   "cell_type": "code",
   "execution_count": null,
   "id": "1c5cdfd9",
   "metadata": {},
   "outputs": [],
   "source": [
    "evaluate_estimator(model, X_imp, Y, metric = \"aucprc\")"
   ]
  },
  {
   "cell_type": "markdown",
   "id": "e2680f42",
   "metadata": {},
   "source": [
    "##  Option 2: Let the optimizer find the best imputer"
   ]
  },
  {
   "cell_type": "code",
   "execution_count": null,
   "id": "072f65a4",
   "metadata": {},
   "outputs": [],
   "source": [
    "from pathlib import Path\n",
    "\n",
    "workspace = Path(\"workspace\")\n",
    "study_name = \"test_classification_studies_v2\"\n",
    "\n",
    "study = ClassifierStudy(\n",
    "    study_name=study_name,\n",
    "    dataset=dataset,\n",
    "    target=\"target\",\n",
    "    num_iter=2,\n",
    "    num_study_iter=1,\n",
    "    timeout=60, \n",
    "    imputers = [\"mean\", \"ice\", \"median\"],\n",
    "    classifiers=[\"logistic_regression\", \"lda\"],\n",
    "    feature_scaling = [], # feature preprocessing is disabled\n",
    "    score_threshold=0.4,\n",
    "    workspace=workspace,\n",
    ")"
   ]
  },
  {
   "cell_type": "code",
   "execution_count": null,
   "id": "6e6ebb79",
   "metadata": {},
   "outputs": [],
   "source": [
    "study.run()"
   ]
  },
  {
   "cell_type": "code",
   "execution_count": null,
   "id": "c6a637d3",
   "metadata": {},
   "outputs": [],
   "source": [
    "from adjutorium.utils.serialization import load_model_from_file\n",
    "from adjutorium.utils.tester import evaluate_estimator\n",
    "from adjutorium.plugins.imputers import Imputers\n",
    "\n",
    "model_path = workspace / study_name / \"model.p\"\n",
    "\n",
    "model = load_model_from_file(model_path)\n",
    "\n",
    "X_imp = Imputers().get(\"mean\").fit_transform(X)\n",
    "\n",
    "evaluate_estimator(model, X_imp, Y, metric = \"aucroc\")"
   ]
  },
  {
   "cell_type": "code",
   "execution_count": null,
   "id": "3bb4dee7",
   "metadata": {},
   "outputs": [
    {
     "name": "stderr",
     "output_type": "stream",
     "text": [
      "/home/bcebere/code/vds/adjutorium-framework/src/adjutorium/utils/redis.py:20: ExperimentalWarning: RedisStorage is experimental (supported from v1.4.0). The interface can change in the future.\n",
      "  self._optuna_storage = optuna.storages.RedisStorage(url=self.url)\n",
      "/home/bcebere/anaconda3/envs/py38/lib/python3.8/site-packages/sklearn/experimental/enable_hist_gradient_boosting.py:16: UserWarning: Since version 1.0, it is not needed to import enable_hist_gradient_boosting anymore. HistGradientBoostingClassifier and HistGradientBoostingRegressor are now stable and can be normally imported from sklearn.ensemble.\n",
      "  warnings.warn(\n",
      "/home/bcebere/code/vds/adjutorium-framework/src/adjutorium/utils/redis.py:20: ExperimentalWarning: RedisStorage is experimental (supported from v1.4.0). The interface can change in the future.\n",
      "  self._optuna_storage = optuna.storages.RedisStorage(url=self.url)\n",
      "/home/bcebere/anaconda3/envs/py38/lib/python3.8/site-packages/sklearn/experimental/enable_hist_gradient_boosting.py:16: UserWarning: Since version 1.0, it is not needed to import enable_hist_gradient_boosting anymore. HistGradientBoostingClassifier and HistGradientBoostingRegressor are now stable and can be normally imported from sklearn.ensemble.\n",
      "  warnings.warn(\n",
      "/home/bcebere/anaconda3/envs/py38/lib/python3.8/site-packages/sklearn/experimental/enable_hist_gradient_boosting.py:16: UserWarning: Since version 1.0, it is not needed to import enable_hist_gradient_boosting anymore. HistGradientBoostingClassifier and HistGradientBoostingRegressor are now stable and can be normally imported from sklearn.ensemble.\n",
      "  warnings.warn(\n",
      "/home/bcebere/code/vds/adjutorium-framework/src/adjutorium/utils/redis.py:20: ExperimentalWarning: RedisStorage is experimental (supported from v1.4.0). The interface can change in the future.\n",
      "  self._optuna_storage = optuna.storages.RedisStorage(url=self.url)\n",
      "/home/bcebere/anaconda3/envs/py38/lib/python3.8/site-packages/sklearn/experimental/enable_hist_gradient_boosting.py:16: UserWarning: Since version 1.0, it is not needed to import enable_hist_gradient_boosting anymore. HistGradientBoostingClassifier and HistGradientBoostingRegressor are now stable and can be normally imported from sklearn.ensemble.\n",
      "  warnings.warn(\n"
     ]
    }
   ],
   "source": [
    "evaluate_estimator(model, X_imp, Y, metric = \"aucprc\")"
   ]
  }
 ],
 "metadata": {
  "kernelspec": {
   "display_name": "Python 3 (ipykernel)",
   "language": "python",
   "name": "python3"
  },
  "language_info": {
   "codemirror_mode": {
    "name": "ipython",
    "version": 3
   },
   "file_extension": ".py",
   "mimetype": "text/x-python",
   "name": "python",
   "nbconvert_exporter": "python",
   "pygments_lexer": "ipython3",
   "version": "3.8.12"
  }
 },
 "nbformat": 4,
 "nbformat_minor": 5
}
