{
 "cells": [
  {
   "cell_type": "markdown",
   "id": "molecular-moscow",
   "metadata": {},
   "source": [
    "# Classification Plugins"
   ]
  },
  {
   "cell_type": "markdown",
   "id": "corrected-basis",
   "metadata": {},
   "source": [
    "\n",
    "**Adjutorium** provides a set of default predicton plugins and can be extended with any number of other plugins.\n",
    "\n",
    "In this tutorial, we will focus on the __classification__ tasks."
   ]
  },
  {
   "cell_type": "markdown",
   "id": "multiple-annotation",
   "metadata": {},
   "source": [
    "### Plugins 101\n",
    "\n",
    "Every **Adjutorium plugin** must implement the **`Plugin`** interface provided by `adjutorium/plugins/core/base_plugin.py`.\n",
    "\n",
    "Each **Adjutorium prediction plugin** must implement the **`PredictionPlugin`** interface provided by `adjutorium/plugins/prediction/base.py`\n",
    "\n",
    "__Warning__ : If a plugin doesn't override all the abstract methods, it won't be loaded by the library.\n",
    "\n",
    "\n",
    "\n",
    "\n",
    "__API__ : Every prediction plugin must implement the following methods:\n",
    "- `name()` - a static method that returns the name of the plugin. e.g., neural_nets, perceptron, etc.\n",
    "\n",
    "- `subtype()` - a static method that returns the plugin's subtype. e.g., \"classification\", \"survival_analysis\" etc. It will be used for filtering the plugin in the optimization process.\n",
    "    \n",
    "- `hyperparameter_space()` - a static method that returns the hyperparameters that can be tuned during the optimization. The method will return a list of `skopt.space.Dimension` derived objects."
   ]
  },
  {
   "cell_type": "markdown",
   "id": "auburn-hygiene",
   "metadata": {},
   "source": [
    "### Setup"
   ]
  },
  {
   "cell_type": "code",
   "execution_count": null,
   "id": "wanted-point",
   "metadata": {},
   "outputs": [],
   "source": [
    "import sys\n",
    "import warnings\n",
    "import time\n",
    "from tqdm import tqdm\n",
    "\n",
    "import numpy as np\n",
    "import pandas as pd\n",
    "\n",
    "from sklearn.datasets import load_breast_cancer\n",
    "from sklearn import metrics\n",
    "from sklearn.model_selection import train_test_split\n",
    "from sklearn.datasets import make_moons, make_circles, make_classification\n",
    "\n",
    "from matplotlib.colors import ListedColormap\n",
    "import matplotlib.pyplot as plt\n",
    "\n",
    "from IPython.display import HTML, display\n",
    "import tabulate\n",
    "\n",
    "if not sys.warnoptions:\n",
    "    warnings.simplefilter(\"ignore\")"
   ]
  },
  {
   "cell_type": "markdown",
   "id": "devoted-console",
   "metadata": {},
   "source": [
    "### Loading the Classification plugins\n",
    "\n",
    "Make sure that you have installed Adjutorium in your workspace.\n",
    "\n",
    "You can do that by running `pip install .` in the root of the repository."
   ]
  },
  {
   "cell_type": "code",
   "execution_count": null,
   "id": "coated-innocent",
   "metadata": {},
   "outputs": [],
   "source": [
    "from adjutorium.plugins.prediction.classifiers import Classifiers, ClassifierPlugin\n",
    "\n",
    "classifiers = Classifiers()"
   ]
  },
  {
   "cell_type": "markdown",
   "id": "refined-booth",
   "metadata": {},
   "source": [
    "### List the existing plugins"
   ]
  },
  {
   "cell_type": "code",
   "execution_count": null,
   "id": "incident-familiar",
   "metadata": {},
   "outputs": [],
   "source": [
    "classifiers.list()"
   ]
  },
  {
   "cell_type": "markdown",
   "id": "sufficient-broad",
   "metadata": {},
   "source": [
    "### List the existing plugins\n",
    "\n",
    "Now we should see the new plugins loaded."
   ]
  },
  {
   "cell_type": "code",
   "execution_count": null,
   "id": "loved-hepatitis",
   "metadata": {},
   "outputs": [],
   "source": [
    "from adjutorium.plugins.prediction.classifiers import Classifiers\n",
    "\n",
    "classifiers = Classifiers()\n",
    "\n",
    "classifiers.list()"
   ]
  },
  {
   "cell_type": "markdown",
   "id": "dominican-tulsa",
   "metadata": {},
   "source": [
    "## Benchmarks\n",
    "\n",
    "We test the prediction plugins using the [Wisconsin Breast Cancer dataset](https://archive.ics.uci.edu/ml/datasets/Breast+Cancer+Wisconsin+(Diagnostic))."
   ]
  },
  {
   "cell_type": "markdown",
   "id": "advance-expert",
   "metadata": {},
   "source": [
    "### Loading the data"
   ]
  },
  {
   "cell_type": "code",
   "execution_count": null,
   "id": "preceding-vermont",
   "metadata": {},
   "outputs": [],
   "source": [
    "X, y = load_breast_cancer(return_X_y=True)\n",
    "X_train, X_test, y_train, y_test = train_test_split(X,y,test_size=0.2)"
   ]
  },
  {
   "cell_type": "markdown",
   "id": "opened-finding",
   "metadata": {},
   "source": [
    "### Duration benchmarks\n",
    "\n",
    "__About__ : This step measures the fit_predict duration for each plugin on the dataset. The times are reported in milliseconds."
   ]
  },
  {
   "cell_type": "code",
   "execution_count": null,
   "id": "recovered-tonight",
   "metadata": {},
   "outputs": [],
   "source": [
    "duration = []\n",
    "\n",
    "plugins = classifiers.list()\n",
    "\n",
    "for plugin in tqdm(plugins):\n",
    "    plugin_duration = [plugin] \n",
    "    ctx = classifiers.get(plugin)\n",
    "    \n",
    "    start = time.time() * 1000\n",
    "    ctx.fit_predict(X, y)\n",
    "            \n",
    "    plugin_duration.append(round(time.time() * 1000 - start, 4))\n",
    "\n",
    "    duration.append(plugin_duration)"
   ]
  },
  {
   "cell_type": "markdown",
   "id": "numeric-million",
   "metadata": {},
   "source": [
    "### Duration(ms) results"
   ]
  },
  {
   "cell_type": "code",
   "execution_count": null,
   "id": "viral-suggestion",
   "metadata": {},
   "outputs": [],
   "source": [
    "display(\n",
    "    HTML(tabulate.tabulate(duration, headers=[\"Plugin\", \"Duration(ms)\"], tablefmt=\"html\"))\n",
    ")"
   ]
  },
  {
   "cell_type": "markdown",
   "id": "de21a377",
   "metadata": {},
   "source": [
    "### Prediction performance\n",
    "\n",
    "__Steps__\n",
    " - We train each prediction plugin on the dataset.\n",
    " - We report the accuracy,  AUROC, and AURPC metrics on the test set."
   ]
  },
  {
   "cell_type": "code",
   "execution_count": null,
   "id": "e1c1ecd2",
   "metadata": {},
   "outputs": [],
   "source": [
    "def get_metrics(plugin, X_train, y_train, X_test, y_test):\n",
    "    plugin.fit(X_train, y_train)\n",
    "\n",
    "    y_pred = plugin.predict(X_test)\n",
    "    \n",
    "    score = metrics.accuracy_score(y_test, y_pred)\n",
    "    \n",
    "    fpr, tpr, thresholds = metrics.roc_curve(y_test, y_pred)\n",
    "    auroc = metrics.auc(fpr, tpr)\n",
    "    \n",
    "    prec, recall, thresholds = metrics.precision_recall_curve(y_test, y_pred)\n",
    "    aurpc = metrics.auc(recall, prec)\n",
    "    \n",
    "    return round(score, 4), round(auroc, 4), round(aurpc, 4)\n",
    "\n",
    "\n",
    "metrics_headers = [\"Plugin\", \"Accuracy\", \"AUROC\", \"AURPC\"]\n",
    "test_score = []\n",
    "\n",
    "\n",
    "for plugin in plugins:\n",
    "    fproc = classifiers.get(plugin)\n",
    "\n",
    "    score, auroc, aurpc = get_metrics(fproc, X_train, y_train, X_test, y_test)\n",
    "    \n",
    "    test_score.append([plugin, score, auroc, aurpc])"
   ]
  },
  {
   "cell_type": "code",
   "execution_count": null,
   "id": "d43c9fae",
   "metadata": {},
   "outputs": [],
   "source": [
    "display(\n",
    "    HTML(tabulate.tabulate(test_score, headers=metrics_headers, tablefmt=\"html\"))\n",
    ")"
   ]
  },
  {
   "cell_type": "markdown",
   "id": "neural-dutch",
   "metadata": {},
   "source": [
    "# Congratulations!\n",
    "\n",
    "Congratulations on completing this notebook tutorial! If you enjoyed this and would like to join the movement towards Machine learning and AI for medicine, you can do so in the following ways!\n",
    "\n",
    "### Star Adjutorium on GitHub\n",
    "\n",
    "The easiest way to help our community is just by starring the Repos! This helps raise awareness of the tools we're building.\n",
    "\n",
    "- [Star Adjutorium](https://github.com/vanderschaarlab/adjutorium-framework)\n"
   ]
  },
  {
   "cell_type": "code",
   "execution_count": null,
   "id": "58ff969a",
   "metadata": {},
   "outputs": [],
   "source": []
  }
 ],
 "metadata": {
  "kernelspec": {
   "display_name": "Python 3 (ipykernel)",
   "language": "python",
   "name": "python3"
  },
  "language_info": {
   "codemirror_mode": {
    "name": "ipython",
    "version": 3
   },
   "file_extension": ".py",
   "mimetype": "text/x-python",
   "name": "python",
   "nbconvert_exporter": "python",
   "pygments_lexer": "ipython3",
   "version": "3.8.12"
  }
 },
 "nbformat": 4,
 "nbformat_minor": 5
}
